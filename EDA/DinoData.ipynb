{
 "cells": [
  {
   "cell_type": "code",
   "execution_count": 41,
   "id": "19eba4e1-71de-4918-88ff-256e009c5a43",
   "metadata": {},
   "outputs": [],
   "source": [
    "import sqlite3\n",
    "import numpy as np\n",
    "import pandas as pd\n",
    "import pyspark as ps\n",
    "import matplotlib as plt\n",
    "import seaborn as sns"
   ]
  },
  {
   "cell_type": "markdown",
   "id": "97674368-199c-404b-a82d-c552e9f52df8",
   "metadata": {},
   "source": [
    "Dataset is available here: https://www.kaggle.com/datasets/kjanjua/jurassic-park-the-exhaustive-dinosaur-dataset"
   ]
  },
  {
   "cell_type": "raw",
   "id": "03112741-49a9-41fd-b9c0-a70bb9cfcccd",
   "metadata": {},
   "source": [
    "OPTIONAL Kagglehub download\n",
    "#will need to pip install kagglehub\n",
    "\n",
    "import kagglehub\n",
    "\n",
    "# Download latest version\n",
    "path = kagglehub.dataset_download(\"kjanjua/jurassic-park-the-exhaustive-dinosaur-dataset\")\n",
    "\n",
    "print(\"Path to dataset files:\", path)"
   ]
  },
  {
   "cell_type": "raw",
   "id": "913a8414-9574-4d4e-9d24-af9dcd9c555e",
   "metadata": {},
   "source": [
    "#for sqlite3\n",
    "# Connect to DB and create a cursor\n",
    "sqliteConnection = sqlite3.connect('dinodata.csv')\n",
    "cursor = sqliteConnection.cursor()\n",
    "\n",
    " # Write a query and execute it with cursor\n",
    "query = 'select sqlite_version();'\n",
    "cursor.execute(query)\n",
    "\n",
    "# Fetch and output result\n",
    "result = cursor.fetchall()\n",
    "print('SQLite Version is {}'.format(result))\n",
    "\n",
    "# Close the cursor\n",
    "cursor.close()\n",
    "\n",
    "#SQL COMMANDS HERE\n",
    "\n",
    "if sqliteConnection:\n",
    "    sqliteConnection.close()\n",
    "    print('SQLite Connection closed')"
   ]
  },
  {
   "cell_type": "code",
   "execution_count": 42,
   "id": "e08006f0-6c2c-45aa-ad7e-fcc0e005e04c",
   "metadata": {},
   "outputs": [
    {
     "data": {
      "text/html": [
       "<div>\n",
       "<style scoped>\n",
       "    .dataframe tbody tr th:only-of-type {\n",
       "        vertical-align: middle;\n",
       "    }\n",
       "\n",
       "    .dataframe tbody tr th {\n",
       "        vertical-align: top;\n",
       "    }\n",
       "\n",
       "    .dataframe thead th {\n",
       "        text-align: right;\n",
       "    }\n",
       "</style>\n",
       "<table border=\"1\" class=\"dataframe\">\n",
       "  <thead>\n",
       "    <tr style=\"text-align: right;\">\n",
       "      <th></th>\n",
       "      <th>name</th>\n",
       "      <th>diet</th>\n",
       "      <th>period</th>\n",
       "      <th>lived_in</th>\n",
       "      <th>type</th>\n",
       "      <th>length</th>\n",
       "      <th>taxonomy</th>\n",
       "      <th>named_by</th>\n",
       "      <th>species</th>\n",
       "      <th>link</th>\n",
       "    </tr>\n",
       "  </thead>\n",
       "  <tbody>\n",
       "    <tr>\n",
       "      <th>0</th>\n",
       "      <td>aardonyx</td>\n",
       "      <td>herbivorous</td>\n",
       "      <td>Early Jurassic 199-189 million years ago</td>\n",
       "      <td>South Africa</td>\n",
       "      <td>sauropod</td>\n",
       "      <td>8.0m</td>\n",
       "      <td>Dinosauria Saurischia Sauropodomorpha Prosauro...</td>\n",
       "      <td>Yates Bonnan Neveling Chinsamy and Blackbeard ...</td>\n",
       "      <td>celestae</td>\n",
       "      <td>https://www.nhm.ac.uk/discover/dino-directory/...</td>\n",
       "    </tr>\n",
       "    <tr>\n",
       "      <th>1</th>\n",
       "      <td>abelisaurus</td>\n",
       "      <td>carnivorous</td>\n",
       "      <td>Late Cretaceous 74-70 million years ago</td>\n",
       "      <td>Argentina</td>\n",
       "      <td>large theropod</td>\n",
       "      <td>9.0m</td>\n",
       "      <td>Dinosauria Saurischia Theropoda Neotheropoda C...</td>\n",
       "      <td>Bonaparte and Novas (1985)</td>\n",
       "      <td>comahuensis</td>\n",
       "      <td>https://www.nhm.ac.uk/discover/dino-directory/...</td>\n",
       "    </tr>\n",
       "    <tr>\n",
       "      <th>2</th>\n",
       "      <td>achelousaurus</td>\n",
       "      <td>herbivorous</td>\n",
       "      <td>Late Cretaceous 83-70 million years ago</td>\n",
       "      <td>USA</td>\n",
       "      <td>ceratopsian</td>\n",
       "      <td>6.0m</td>\n",
       "      <td>Dinosauria Ornithischia Genasauria Cerapoda Ma...</td>\n",
       "      <td>Sampson  (1995)</td>\n",
       "      <td>horneri</td>\n",
       "      <td>https://www.nhm.ac.uk/discover/dino-directory/...</td>\n",
       "    </tr>\n",
       "    <tr>\n",
       "      <th>3</th>\n",
       "      <td>achillobator</td>\n",
       "      <td>carnivorous</td>\n",
       "      <td>Late Cretaceous 99-84 million years ago</td>\n",
       "      <td>Mongolia</td>\n",
       "      <td>large theropod</td>\n",
       "      <td>5.0m</td>\n",
       "      <td>Dinosauria Saurischia Theropoda Neotheropoda T...</td>\n",
       "      <td>Perle Norell and Clark (1999)</td>\n",
       "      <td>giganteus</td>\n",
       "      <td>https://www.nhm.ac.uk/discover/dino-directory/...</td>\n",
       "    </tr>\n",
       "    <tr>\n",
       "      <th>4</th>\n",
       "      <td>acrocanthosaurus</td>\n",
       "      <td>carnivorous</td>\n",
       "      <td>Early Cretaceous 115-105 million years ago</td>\n",
       "      <td>USA</td>\n",
       "      <td>large theropod</td>\n",
       "      <td>12.0m</td>\n",
       "      <td>Dinosauria Saurischia Theropoda Neotheropoda T...</td>\n",
       "      <td>Stovall and Langston (1950)</td>\n",
       "      <td>atokensis</td>\n",
       "      <td>https://www.nhm.ac.uk/discover/dino-directory/...</td>\n",
       "    </tr>\n",
       "  </tbody>\n",
       "</table>\n",
       "</div>"
      ],
      "text/plain": [
       "               name         diet                                      period  \\\n",
       "0          aardonyx  herbivorous    Early Jurassic 199-189 million years ago   \n",
       "1       abelisaurus  carnivorous     Late Cretaceous 74-70 million years ago   \n",
       "2     achelousaurus  herbivorous     Late Cretaceous 83-70 million years ago   \n",
       "3      achillobator  carnivorous     Late Cretaceous 99-84 million years ago   \n",
       "4  acrocanthosaurus  carnivorous  Early Cretaceous 115-105 million years ago   \n",
       "\n",
       "       lived_in            type length  \\\n",
       "0  South Africa        sauropod   8.0m   \n",
       "1     Argentina  large theropod   9.0m   \n",
       "2           USA     ceratopsian   6.0m   \n",
       "3      Mongolia  large theropod   5.0m   \n",
       "4           USA  large theropod  12.0m   \n",
       "\n",
       "                                            taxonomy  \\\n",
       "0  Dinosauria Saurischia Sauropodomorpha Prosauro...   \n",
       "1  Dinosauria Saurischia Theropoda Neotheropoda C...   \n",
       "2  Dinosauria Ornithischia Genasauria Cerapoda Ma...   \n",
       "3  Dinosauria Saurischia Theropoda Neotheropoda T...   \n",
       "4  Dinosauria Saurischia Theropoda Neotheropoda T...   \n",
       "\n",
       "                                            named_by      species  \\\n",
       "0  Yates Bonnan Neveling Chinsamy and Blackbeard ...     celestae   \n",
       "1                         Bonaparte and Novas (1985)  comahuensis   \n",
       "2                                    Sampson  (1995)      horneri   \n",
       "3                      Perle Norell and Clark (1999)    giganteus   \n",
       "4                        Stovall and Langston (1950)    atokensis   \n",
       "\n",
       "                                                link  \n",
       "0  https://www.nhm.ac.uk/discover/dino-directory/...  \n",
       "1  https://www.nhm.ac.uk/discover/dino-directory/...  \n",
       "2  https://www.nhm.ac.uk/discover/dino-directory/...  \n",
       "3  https://www.nhm.ac.uk/discover/dino-directory/...  \n",
       "4  https://www.nhm.ac.uk/discover/dino-directory/...  "
      ]
     },
     "execution_count": 42,
     "metadata": {},
     "output_type": "execute_result"
    }
   ],
   "source": [
    "#create dataframe of info and check that it loads correctly\n",
    "\n",
    "df = pd.read_csv('dinodata.csv')\n",
    "df.head(5)"
   ]
  },
  {
   "cell_type": "code",
   "execution_count": 43,
   "id": "1b900609-5c50-4aac-80f3-009a0765ee22",
   "metadata": {},
   "outputs": [
    {
     "name": "stdout",
     "output_type": "stream",
     "text": [
      "<class 'pandas.core.frame.DataFrame'>\n",
      "RangeIndex: 309 entries, 0 to 308\n",
      "Data columns (total 10 columns):\n",
      " #   Column    Non-Null Count  Dtype \n",
      "---  ------    --------------  ----- \n",
      " 0   name      309 non-null    object\n",
      " 1   diet      309 non-null    object\n",
      " 2   period    309 non-null    object\n",
      " 3   lived_in  308 non-null    object\n",
      " 4   type      309 non-null    object\n",
      " 5   length    291 non-null    object\n",
      " 6   taxonomy  309 non-null    object\n",
      " 7   named_by  309 non-null    object\n",
      " 8   species   304 non-null    object\n",
      " 9   link      309 non-null    object\n",
      "dtypes: object(10)\n",
      "memory usage: 24.3+ KB\n"
     ]
    }
   ],
   "source": [
    "#database metadata\n",
    "df.info()"
   ]
  },
  {
   "cell_type": "code",
   "execution_count": 44,
   "id": "68ceb858-266b-40c9-b273-f07aca67be59",
   "metadata": {},
   "outputs": [
    {
     "data": {
      "text/html": [
       "<div>\n",
       "<style scoped>\n",
       "    .dataframe tbody tr th:only-of-type {\n",
       "        vertical-align: middle;\n",
       "    }\n",
       "\n",
       "    .dataframe tbody tr th {\n",
       "        vertical-align: top;\n",
       "    }\n",
       "\n",
       "    .dataframe thead th {\n",
       "        text-align: right;\n",
       "    }\n",
       "</style>\n",
       "<table border=\"1\" class=\"dataframe\">\n",
       "  <thead>\n",
       "    <tr style=\"text-align: right;\">\n",
       "      <th></th>\n",
       "      <th>name</th>\n",
       "      <th>diet</th>\n",
       "      <th>period</th>\n",
       "      <th>lived_in</th>\n",
       "      <th>type</th>\n",
       "      <th>length</th>\n",
       "      <th>taxonomy</th>\n",
       "      <th>named_by</th>\n",
       "      <th>species</th>\n",
       "      <th>link</th>\n",
       "    </tr>\n",
       "  </thead>\n",
       "  <tbody>\n",
       "    <tr>\n",
       "      <th>count</th>\n",
       "      <td>309</td>\n",
       "      <td>309</td>\n",
       "      <td>309</td>\n",
       "      <td>308</td>\n",
       "      <td>309</td>\n",
       "      <td>291</td>\n",
       "      <td>309</td>\n",
       "      <td>309</td>\n",
       "      <td>304</td>\n",
       "      <td>309</td>\n",
       "    </tr>\n",
       "    <tr>\n",
       "      <th>unique</th>\n",
       "      <td>309</td>\n",
       "      <td>5</td>\n",
       "      <td>154</td>\n",
       "      <td>32</td>\n",
       "      <td>7</td>\n",
       "      <td>73</td>\n",
       "      <td>102</td>\n",
       "      <td>277</td>\n",
       "      <td>272</td>\n",
       "      <td>309</td>\n",
       "    </tr>\n",
       "    <tr>\n",
       "      <th>top</th>\n",
       "      <td>aardonyx</td>\n",
       "      <td>herbivorous</td>\n",
       "      <td>Late Cretaceous 76-74 million years ago</td>\n",
       "      <td>USA</td>\n",
       "      <td>sauropod</td>\n",
       "      <td>6.0m</td>\n",
       "      <td>Dinosauria Ornithischia Genasauria Cerapoda Or...</td>\n",
       "      <td>Marsh (1877)</td>\n",
       "      <td>mongoliensis</td>\n",
       "      <td>https://www.nhm.ac.uk/discover/dino-directory/...</td>\n",
       "    </tr>\n",
       "    <tr>\n",
       "      <th>freq</th>\n",
       "      <td>1</td>\n",
       "      <td>185</td>\n",
       "      <td>14</td>\n",
       "      <td>77</td>\n",
       "      <td>69</td>\n",
       "      <td>21</td>\n",
       "      <td>11</td>\n",
       "      <td>4</td>\n",
       "      <td>7</td>\n",
       "      <td>1</td>\n",
       "    </tr>\n",
       "  </tbody>\n",
       "</table>\n",
       "</div>"
      ],
      "text/plain": [
       "            name         diet                                   period  \\\n",
       "count        309          309                                      309   \n",
       "unique       309            5                                      154   \n",
       "top     aardonyx  herbivorous  Late Cretaceous 76-74 million years ago   \n",
       "freq           1          185                                       14   \n",
       "\n",
       "       lived_in      type length  \\\n",
       "count       308       309    291   \n",
       "unique       32         7     73   \n",
       "top         USA  sauropod   6.0m   \n",
       "freq         77        69     21   \n",
       "\n",
       "                                                 taxonomy      named_by  \\\n",
       "count                                                 309           309   \n",
       "unique                                                102           277   \n",
       "top     Dinosauria Ornithischia Genasauria Cerapoda Or...  Marsh (1877)   \n",
       "freq                                                   11             4   \n",
       "\n",
       "             species                                               link  \n",
       "count            304                                                309  \n",
       "unique           272                                                309  \n",
       "top     mongoliensis  https://www.nhm.ac.uk/discover/dino-directory/...  \n",
       "freq               7                                                  1  "
      ]
     },
     "execution_count": 44,
     "metadata": {},
     "output_type": "execute_result"
    }
   ],
   "source": [
    "#database stats\n",
    "df.describe(include='all')\n",
    "#df.describe()"
   ]
  },
  {
   "cell_type": "code",
   "execution_count": 45,
   "id": "752ccd41-12fe-48ae-b466-fbe6ceacb937",
   "metadata": {},
   "outputs": [
    {
     "data": {
      "text/plain": [
       "name         0\n",
       "diet         0\n",
       "period       0\n",
       "lived_in     1\n",
       "type         0\n",
       "length      18\n",
       "taxonomy     0\n",
       "named_by     0\n",
       "species      5\n",
       "link         0\n",
       "dtype: int64"
      ]
     },
     "execution_count": 45,
     "metadata": {},
     "output_type": "execute_result"
    }
   ],
   "source": [
    "#find null values\n",
    "df.isnull().sum()"
   ]
  },
  {
   "cell_type": "code",
   "execution_count": 46,
   "id": "b84b7ce4-ab3d-461b-ab3f-74c8c6bac26d",
   "metadata": {},
   "outputs": [
    {
     "name": "stdout",
     "output_type": "stream",
     "text": [
      "          count  percentage\n",
      "name          0        0.00\n",
      "diet          0        0.00\n",
      "period        0        0.00\n",
      "lived_in      1        0.32\n",
      "type          0        0.00\n",
      "length       18        5.83\n",
      "taxonomy      0        0.00\n",
      "named_by      0        0.00\n",
      "species       5        1.62\n",
      "link          0        0.00\n"
     ]
    }
   ],
   "source": [
    "#finding percentages of missing values\n",
    "\n",
    "missing_count = df.isnull().sum() #sum of all missing values\n",
    "value_count = df.isnull().count() #the count of attributes that have missing values\n",
    "missing_percentage = round(missing_count / value_count * 100, 2) #rounds the math to two decimal points\n",
    "\n",
    "#creating a dataframe of the missing values\n",
    "missing_df = pd.DataFrame({'count':missing_count, 'percentage': missing_percentage})\n",
    "print(missing_df) #prints new dataframe of missing values"
   ]
  },
  {
   "cell_type": "code",
   "execution_count": 47,
   "id": "7aa4b48b-14a5-4b95-9ca2-e3c27f759d36",
   "metadata": {},
   "outputs": [
    {
     "data": {
      "text/html": [
       "<div>\n",
       "<style scoped>\n",
       "    .dataframe tbody tr th:only-of-type {\n",
       "        vertical-align: middle;\n",
       "    }\n",
       "\n",
       "    .dataframe tbody tr th {\n",
       "        vertical-align: top;\n",
       "    }\n",
       "\n",
       "    .dataframe thead th {\n",
       "        text-align: right;\n",
       "    }\n",
       "</style>\n",
       "<table border=\"1\" class=\"dataframe\">\n",
       "  <thead>\n",
       "    <tr style=\"text-align: right;\">\n",
       "      <th></th>\n",
       "      <th>name</th>\n",
       "      <th>diet</th>\n",
       "      <th>period</th>\n",
       "      <th>lived_in</th>\n",
       "      <th>type</th>\n",
       "      <th>length</th>\n",
       "    </tr>\n",
       "  </thead>\n",
       "  <tbody>\n",
       "    <tr>\n",
       "      <th>0</th>\n",
       "      <td>aardonyx</td>\n",
       "      <td>herbivorous</td>\n",
       "      <td>Early Jurassic 199-189 million years ago</td>\n",
       "      <td>South Africa</td>\n",
       "      <td>sauropod</td>\n",
       "      <td>8.0m</td>\n",
       "    </tr>\n",
       "    <tr>\n",
       "      <th>1</th>\n",
       "      <td>abelisaurus</td>\n",
       "      <td>carnivorous</td>\n",
       "      <td>Late Cretaceous 74-70 million years ago</td>\n",
       "      <td>Argentina</td>\n",
       "      <td>large theropod</td>\n",
       "      <td>9.0m</td>\n",
       "    </tr>\n",
       "    <tr>\n",
       "      <th>2</th>\n",
       "      <td>achelousaurus</td>\n",
       "      <td>herbivorous</td>\n",
       "      <td>Late Cretaceous 83-70 million years ago</td>\n",
       "      <td>USA</td>\n",
       "      <td>ceratopsian</td>\n",
       "      <td>6.0m</td>\n",
       "    </tr>\n",
       "    <tr>\n",
       "      <th>3</th>\n",
       "      <td>achillobator</td>\n",
       "      <td>carnivorous</td>\n",
       "      <td>Late Cretaceous 99-84 million years ago</td>\n",
       "      <td>Mongolia</td>\n",
       "      <td>large theropod</td>\n",
       "      <td>5.0m</td>\n",
       "    </tr>\n",
       "    <tr>\n",
       "      <th>4</th>\n",
       "      <td>acrocanthosaurus</td>\n",
       "      <td>carnivorous</td>\n",
       "      <td>Early Cretaceous 115-105 million years ago</td>\n",
       "      <td>USA</td>\n",
       "      <td>large theropod</td>\n",
       "      <td>12.0m</td>\n",
       "    </tr>\n",
       "  </tbody>\n",
       "</table>\n",
       "</div>"
      ],
      "text/plain": [
       "               name         diet                                      period  \\\n",
       "0          aardonyx  herbivorous    Early Jurassic 199-189 million years ago   \n",
       "1       abelisaurus  carnivorous     Late Cretaceous 74-70 million years ago   \n",
       "2     achelousaurus  herbivorous     Late Cretaceous 83-70 million years ago   \n",
       "3      achillobator  carnivorous     Late Cretaceous 99-84 million years ago   \n",
       "4  acrocanthosaurus  carnivorous  Early Cretaceous 115-105 million years ago   \n",
       "\n",
       "       lived_in            type length  \n",
       "0  South Africa        sauropod   8.0m  \n",
       "1     Argentina  large theropod   9.0m  \n",
       "2           USA     ceratopsian   6.0m  \n",
       "3      Mongolia  large theropod   5.0m  \n",
       "4           USA  large theropod  12.0m  "
      ]
     },
     "execution_count": 47,
     "metadata": {},
     "output_type": "execute_result"
    }
   ],
   "source": [
    "#can work with certain columns like diet, period (maybe), lived in (maybe), type, length: 3 to 5 columns\n",
    "df = df.drop(['taxonomy','named_by','species','link'], axis=1)\n",
    "df.head(5)"
   ]
  },
  {
   "cell_type": "code",
   "execution_count": 48,
   "id": "381b2327-c451-424e-bdf2-2188ca7cb19b",
   "metadata": {},
   "outputs": [
    {
     "data": {
      "text/plain": [
       "array(['herbivorous', 'carnivorous', 'omnivorous', 'unknown',\n",
       "       'herbivorous/omnivorous'], dtype=object)"
      ]
     },
     "execution_count": 48,
     "metadata": {},
     "output_type": "execute_result"
    }
   ],
   "source": [
    "#will need to use label encoder to graph values\n",
    "df['diet'].unique()"
   ]
  },
  {
   "cell_type": "code",
   "execution_count": 49,
   "id": "60ac2aeb-5708-4ce1-9035-844b13a53d19",
   "metadata": {},
   "outputs": [
    {
     "data": {
      "text/plain": [
       "array([1, 0, 3, 4, 2])"
      ]
     },
     "execution_count": 49,
     "metadata": {},
     "output_type": "execute_result"
    }
   ],
   "source": [
    "#sklearn has built in label encoder\n",
    "import sklearn\n",
    "from sklearn import preprocessing\n",
    "\n",
    "le = preprocessing.LabelEncoder()\n",
    "df['diet'] = le.fit_transform(df['diet'])\n",
    "df['diet'].unique()"
   ]
  },
  {
   "cell_type": "code",
   "execution_count": 50,
   "id": "e83ab9f1-6868-4f3e-95ea-c4a54aa27f52",
   "metadata": {},
   "outputs": [
    {
     "data": {
      "text/plain": [
       "<Axes: title={'center': 'diet'}, ylabel='Frequency'>"
      ]
     },
     "execution_count": 50,
     "metadata": {},
     "output_type": "execute_result"
    },
    {
     "data": {
      "image/png": "[encoded data removed]",
      "text/plain": [
       "<Figure size 640x480 with 1 Axes>"
      ]
     },
     "metadata": {},
     "output_type": "display_data"
    }
   ],
   "source": [
    "#try to bar chart total sum of each category\n",
    "df[\"diet\"].plot(kind='hist', title='diet')"
   ]
  },
  {
   "cell_type": "code",
   "execution_count": 51,
   "id": "0758be26-2ae5-4087-be2d-9c0a1bbfd63a",
   "metadata": {},
   "outputs": [
    {
     "data": {
      "text/html": [
       "<div>\n",
       "<style scoped>\n",
       "    .dataframe tbody tr th:only-of-type {\n",
       "        vertical-align: middle;\n",
       "    }\n",
       "\n",
       "    .dataframe tbody tr th {\n",
       "        vertical-align: top;\n",
       "    }\n",
       "\n",
       "    .dataframe thead th {\n",
       "        text-align: right;\n",
       "    }\n",
       "</style>\n",
       "<table border=\"1\" class=\"dataframe\">\n",
       "  <thead>\n",
       "    <tr style=\"text-align: right;\">\n",
       "      <th></th>\n",
       "      <th>name</th>\n",
       "      <th>diet</th>\n",
       "      <th>period</th>\n",
       "      <th>lived_in</th>\n",
       "      <th>type</th>\n",
       "      <th>length</th>\n",
       "    </tr>\n",
       "  </thead>\n",
       "  <tbody>\n",
       "    <tr>\n",
       "      <th>237</th>\n",
       "      <td>riojasaurus</td>\n",
       "      <td>2</td>\n",
       "      <td>Late Triassic 221-210 million years ago</td>\n",
       "      <td>Argentina</td>\n",
       "      <td>sauropod</td>\n",
       "      <td>5.15m</td>\n",
       "    </tr>\n",
       "  </tbody>\n",
       "</table>\n",
       "</div>"
      ],
      "text/plain": [
       "            name  diet                                   period   lived_in  \\\n",
       "237  riojasaurus     2  Late Triassic 221-210 million years ago  Argentina   \n",
       "\n",
       "         type length  \n",
       "237  sauropod  5.15m  "
      ]
     },
     "execution_count": 51,
     "metadata": {},
     "output_type": "execute_result"
    }
   ],
   "source": [
    "#to print the row with a specific column value\n",
    "df.loc[df['diet'] == 2]"
   ]
  },
  {
   "cell_type": "code",
   "execution_count": 52,
   "id": "b83d8bfb-28a3-4089-8d3c-4142caa64b14",
   "metadata": {},
   "outputs": [
    {
     "data": {
      "text/html": [
       "<div>\n",
       "<style scoped>\n",
       "    .dataframe tbody tr th:only-of-type {\n",
       "        vertical-align: middle;\n",
       "    }\n",
       "\n",
       "    .dataframe tbody tr th {\n",
       "        vertical-align: top;\n",
       "    }\n",
       "\n",
       "    .dataframe thead th {\n",
       "        text-align: right;\n",
       "    }\n",
       "</style>\n",
       "<table border=\"1\" class=\"dataframe\">\n",
       "  <thead>\n",
       "    <tr style=\"text-align: right;\">\n",
       "      <th></th>\n",
       "      <th>name</th>\n",
       "      <th>diet</th>\n",
       "      <th>period</th>\n",
       "      <th>lived_in</th>\n",
       "      <th>type</th>\n",
       "      <th>length</th>\n",
       "    </tr>\n",
       "  </thead>\n",
       "  <tbody>\n",
       "    <tr>\n",
       "      <th>182</th>\n",
       "      <td>mononykus</td>\n",
       "      <td>4</td>\n",
       "      <td>Late Cretaceous 81-68 million years ago</td>\n",
       "      <td>Mongolia</td>\n",
       "      <td>small theropod</td>\n",
       "      <td>1.0m</td>\n",
       "    </tr>\n",
       "    <tr>\n",
       "      <th>281</th>\n",
       "      <td>therizinosaurus</td>\n",
       "      <td>4</td>\n",
       "      <td>Late Cretaceous 85-70 million years ago</td>\n",
       "      <td>Mongolia</td>\n",
       "      <td>large theropod</td>\n",
       "      <td>NaN</td>\n",
       "    </tr>\n",
       "  </tbody>\n",
       "</table>\n",
       "</div>"
      ],
      "text/plain": [
       "                name  diet                                   period  lived_in  \\\n",
       "182        mononykus     4  Late Cretaceous 81-68 million years ago  Mongolia   \n",
       "281  therizinosaurus     4  Late Cretaceous 85-70 million years ago  Mongolia   \n",
       "\n",
       "               type length  \n",
       "182  small theropod   1.0m  \n",
       "281  large theropod    NaN  "
      ]
     },
     "execution_count": 52,
     "metadata": {},
     "output_type": "execute_result"
    }
   ],
   "source": [
    "df.loc[df['diet'] == 4]"
   ]
  },
  {
   "cell_type": "code",
   "execution_count": 53,
   "id": "2dd6d0df-b667-4862-83dc-c459cd8f4872",
   "metadata": {},
   "outputs": [
    {
     "name": "stdout",
     "output_type": "stream",
     "text": [
      "<class 'pandas.core.frame.DataFrame'>\n",
      "Index: 306 entries, 0 to 308\n",
      "Data columns (total 6 columns):\n",
      " #   Column    Non-Null Count  Dtype \n",
      "---  ------    --------------  ----- \n",
      " 0   name      306 non-null    object\n",
      " 1   diet      306 non-null    int32 \n",
      " 2   period    306 non-null    object\n",
      " 3   lived_in  305 non-null    object\n",
      " 4   type      306 non-null    object\n",
      " 5   length    289 non-null    object\n",
      "dtypes: int32(1), object(5)\n",
      "memory usage: 15.5+ KB\n"
     ]
    }
   ],
   "source": [
    "# can drop the \"2\" and \"4\" labels since they hold little weight over the dataset\n",
    "# sad because therizinosaurus is really cool\n",
    "df = df.drop([237, 182, 281])\n",
    "df.info()"
   ]
  },
  {
   "cell_type": "code",
   "execution_count": 54,
   "id": "f3d565c4-8765-4c6e-bbc1-b9854e0a8f97",
   "metadata": {},
   "outputs": [
    {
     "data": {
      "text/plain": [
       "array([1, 0, 2], dtype=int64)"
      ]
     },
     "execution_count": 54,
     "metadata": {},
     "output_type": "execute_result"
    }
   ],
   "source": [
    "#run label encoder again to easily get labels of 0,1 and 2 instead of 0, 1, and 3\n",
    "#inverse_transform to get labels back if needed\n",
    "df['diet'] = le.fit_transform(df['diet'])\n",
    "df['diet'].unique()"
   ]
  },
  {
   "cell_type": "code",
   "execution_count": 55,
   "id": "041cb945-1e37-4fd3-8f45-715e7a18ae33",
   "metadata": {},
   "outputs": [
    {
     "data": {
      "text/plain": [
       "array(['sauropod', 'large theropod', 'ceratopsian', 'euornithopod',\n",
       "       'small theropod', 'armoured dinosaur', '1.0m'], dtype=object)"
      ]
     },
     "execution_count": 55,
     "metadata": {},
     "output_type": "execute_result"
    }
   ],
   "source": [
    "df['type'].unique()\n",
    "\n",
    "#one of the types is a length instead of a label\n",
    "#example of data cleaning"
   ]
  },
  {
   "cell_type": "code",
   "execution_count": 56,
   "id": "a9503148-5e84-4dae-a61d-3287d0b8108f",
   "metadata": {},
   "outputs": [
    {
     "data": {
      "text/html": [
       "<div>\n",
       "<style scoped>\n",
       "    .dataframe tbody tr th:only-of-type {\n",
       "        vertical-align: middle;\n",
       "    }\n",
       "\n",
       "    .dataframe tbody tr th {\n",
       "        vertical-align: top;\n",
       "    }\n",
       "\n",
       "    .dataframe thead th {\n",
       "        text-align: right;\n",
       "    }\n",
       "</style>\n",
       "<table border=\"1\" class=\"dataframe\">\n",
       "  <thead>\n",
       "    <tr style=\"text-align: right;\">\n",
       "      <th></th>\n",
       "      <th>name</th>\n",
       "      <th>diet</th>\n",
       "      <th>period</th>\n",
       "      <th>lived_in</th>\n",
       "      <th>type</th>\n",
       "      <th>length</th>\n",
       "    </tr>\n",
       "  </thead>\n",
       "  <tbody>\n",
       "    <tr>\n",
       "      <th>155</th>\n",
       "      <td>lesothosaurus</td>\n",
       "      <td>1</td>\n",
       "      <td>Early Jurassic 213-200 million years ago</td>\n",
       "      <td>Lesotho</td>\n",
       "      <td>1.0m</td>\n",
       "      <td>NaN</td>\n",
       "    </tr>\n",
       "  </tbody>\n",
       "</table>\n",
       "</div>"
      ],
      "text/plain": [
       "              name  diet                                    period lived_in  \\\n",
       "155  lesothosaurus     1  Early Jurassic 213-200 million years ago  Lesotho   \n",
       "\n",
       "     type length  \n",
       "155  1.0m    NaN  "
      ]
     },
     "execution_count": 56,
     "metadata": {},
     "output_type": "execute_result"
    }
   ],
   "source": [
    "df.loc[df['type'] == '1.0m']"
   ]
  },
  {
   "cell_type": "code",
   "execution_count": 57,
   "id": "fddb9a9a-a160-41b4-b645-8bdc37ed09a5",
   "metadata": {},
   "outputs": [
    {
     "data": {
      "text/plain": [
       "name                                   lesothosaurus\n",
       "diet                                               1\n",
       "period      Early Jurassic 213-200 million years ago\n",
       "lived_in                                     Lesotho\n",
       "type                                            1.0m\n",
       "length                                          1.0m\n",
       "Name: 155, dtype: object"
      ]
     },
     "execution_count": 57,
     "metadata": {},
     "output_type": "execute_result"
    }
   ],
   "source": [
    "#for larger sets, would automate filling in missing data\n",
    "#this is a pretty easy fix though\n",
    "#get row (55) and set length = 1.0m \n",
    "# then set type as max appearing UNLESS all types are equal and that would be random choice\n",
    "df.loc[155, 'length'] = '1.0m'\n",
    "df.loc[155]"
   ]
  },
  {
   "cell_type": "code",
   "execution_count": 58,
   "id": "12cb3885-1b0c-40e0-8d7f-2c2e76646e99",
   "metadata": {},
   "outputs": [
    {
     "data": {
      "text/plain": [
       "'sauropod'"
      ]
     },
     "execution_count": 58,
     "metadata": {},
     "output_type": "execute_result"
    }
   ],
   "source": [
    "#find max appearing type in df['type']\n",
    "df.mode()['type'][0]"
   ]
  },
  {
   "cell_type": "code",
   "execution_count": 59,
   "id": "c377afa7-62cd-486b-b4be-d53622b10093",
   "metadata": {},
   "outputs": [
    {
     "name": "stdout",
     "output_type": "stream",
     "text": [
      "['sauropod' 'large theropod' 'ceratopsian' 'euornithopod' 'small theropod'\n",
      " 'armoured dinosaur']\n"
     ]
    }
   ],
   "source": [
    "#example of max\n",
    "df.loc[155, 'type'] = 'sauropod'\n",
    "df.loc[155]\n",
    "\n",
    "#now printing out all the types\n",
    "print(df['type'].unique())"
   ]
  },
  {
   "cell_type": "code",
   "execution_count": 60,
   "id": "8f798da4-0dc0-4867-9809-ec4130402633",
   "metadata": {},
   "outputs": [
    {
     "name": "stdout",
     "output_type": "stream",
     "text": [
      "[4 3 1 2 5 0]\n"
     ]
    },
    {
     "data": {
      "image/png": "[encoded data removed]",
      "text/plain": [
       "<Figure size 640x480 with 1 Axes>"
      ]
     },
     "metadata": {},
     "output_type": "display_data"
    }
   ],
   "source": [
    "#can now easily encode type\n",
    "df['type'] = le.fit_transform(df['type'])\n",
    "df['type'].plot(kind='hist', title='type')\n",
    "print(df['type'].unique())"
   ]
  },
  {
   "cell_type": "markdown",
   "id": "06a22bfb-b551-4eed-92e5-7dcd0494002e",
   "metadata": {},
   "source": [
    "Filling in Null Values in Length Column\n",
    "\n",
    " - going to experiment with inputting average length grouped by type\n",
    " - need to standardize length first by delimiting by m, makes two columns of 'length' and 'drop'\n",
    " - drop the null 'drop' column and create a 2nd dataframe copied from the first\n",
    " - find the index of the rows that have 'nan' for length\n",
    " - transform the datatype of the length values from str to float via casting\n",
    " - recreate df2 by grouping by type\n",
    " - running mean on each group to get a value to fill into df"
   ]
  },
  {
   "cell_type": "code",
   "execution_count": 61,
   "id": "962a4c52-bbf7-4b65-8535-768680ceb573",
   "metadata": {},
   "outputs": [],
   "source": [
    "# a lot of lengths are null (~6%)\n",
    "# going to experiment with inputting average length by type\n",
    "#need to standardize length first\n",
    "\n",
    "#null string: pd.isna(df['column_name'])"
   ]
  },
  {
   "cell_type": "code",
   "execution_count": 62,
   "id": "1b313f3e-0369-4cd6-9fb4-fe689d56c8cf",
   "metadata": {},
   "outputs": [],
   "source": [
    "#splititng the column length at delimiter m\n",
    "df[['length', 'drop']] = df.length.apply( \n",
    "    lambda x: pd.Series(str(x).split(\"m\")))"
   ]
  },
  {
   "cell_type": "code",
   "execution_count": 63,
   "id": "2083fdd9-7a9d-43a2-b6e9-4653188fae3c",
   "metadata": {},
   "outputs": [],
   "source": [
    "#dropping the 'drop' column\n",
    "df = df.drop(['drop'], axis=1)\n",
    "df2 = df"
   ]
  },
  {
   "cell_type": "code",
   "execution_count": 64,
   "id": "920ccfe8-dcfd-4aba-9249-827fe2236872",
   "metadata": {},
   "outputs": [],
   "source": [
    "#print(df2[df2['length'] == \"nan\"].index)\n",
    "df2.drop([90, 96, 99, 120, 140, 144, 152, 156, 191, 241, 252, 275, 287, 292, 302, 308])\n",
    "#casts length to floats\n",
    "df2['length'] = df['length'].astype(float)\n",
    "\n",
    "\n",
    "#if df2['length'] == \"nan\":\n",
    "    #drop row, first should be 90\n",
    "#    index = df[df['length'] == \"nan\"].index\n",
    "#    df2.drop([index])"
   ]
  },
  {
   "cell_type": "code",
   "execution_count": 65,
   "id": "5f77fc41-d23e-4047-8110-2bae0a805b80",
   "metadata": {},
   "outputs": [
    {
     "data": {
      "text/html": [
       "<div>\n",
       "<style scoped>\n",
       "    .dataframe tbody tr th:only-of-type {\n",
       "        vertical-align: middle;\n",
       "    }\n",
       "\n",
       "    .dataframe tbody tr th {\n",
       "        vertical-align: top;\n",
       "    }\n",
       "\n",
       "    .dataframe thead th {\n",
       "        text-align: right;\n",
       "    }\n",
       "</style>\n",
       "<table border=\"1\" class=\"dataframe\">\n",
       "  <thead>\n",
       "    <tr style=\"text-align: right;\">\n",
       "      <th></th>\n",
       "      <th>name</th>\n",
       "      <th>diet</th>\n",
       "      <th>period</th>\n",
       "      <th>lived_in</th>\n",
       "      <th>length</th>\n",
       "    </tr>\n",
       "    <tr>\n",
       "      <th>type</th>\n",
       "      <th></th>\n",
       "      <th></th>\n",
       "      <th></th>\n",
       "      <th></th>\n",
       "      <th></th>\n",
       "    </tr>\n",
       "  </thead>\n",
       "  <tbody>\n",
       "    <tr>\n",
       "      <th>0</th>\n",
       "      <td>ankylosaurus</td>\n",
       "      <td>1</td>\n",
       "      <td>Late Cretaceous 74-67 million years ago</td>\n",
       "      <td>USA</td>\n",
       "      <td>7.0</td>\n",
       "    </tr>\n",
       "    <tr>\n",
       "      <th>1</th>\n",
       "      <td>achelousaurus</td>\n",
       "      <td>1</td>\n",
       "      <td>Late Cretaceous 83-70 million years ago</td>\n",
       "      <td>USA</td>\n",
       "      <td>6.0</td>\n",
       "    </tr>\n",
       "    <tr>\n",
       "      <th>2</th>\n",
       "      <td>agilisaurus</td>\n",
       "      <td>1</td>\n",
       "      <td>Late Jurassic 169-159 million years ago</td>\n",
       "      <td>China</td>\n",
       "      <td>1.5</td>\n",
       "    </tr>\n",
       "    <tr>\n",
       "      <th>3</th>\n",
       "      <td>abelisaurus</td>\n",
       "      <td>0</td>\n",
       "      <td>Late Cretaceous 74-70 million years ago</td>\n",
       "      <td>Argentina</td>\n",
       "      <td>9.0</td>\n",
       "    </tr>\n",
       "    <tr>\n",
       "      <th>4</th>\n",
       "      <td>aardonyx</td>\n",
       "      <td>1</td>\n",
       "      <td>Early Jurassic 199-189 million years ago</td>\n",
       "      <td>South Africa</td>\n",
       "      <td>8.0</td>\n",
       "    </tr>\n",
       "    <tr>\n",
       "      <th>5</th>\n",
       "      <td>alvarezsaurus</td>\n",
       "      <td>0</td>\n",
       "      <td>Late Cretaceous 89-85 million years ago</td>\n",
       "      <td>Argentina</td>\n",
       "      <td>2.0</td>\n",
       "    </tr>\n",
       "  </tbody>\n",
       "</table>\n",
       "</div>"
      ],
      "text/plain": [
       "               name  diet                                    period  \\\n",
       "type                                                                  \n",
       "0      ankylosaurus     1   Late Cretaceous 74-67 million years ago   \n",
       "1     achelousaurus     1   Late Cretaceous 83-70 million years ago   \n",
       "2       agilisaurus     1   Late Jurassic 169-159 million years ago   \n",
       "3       abelisaurus     0   Late Cretaceous 74-70 million years ago   \n",
       "4          aardonyx     1  Early Jurassic 199-189 million years ago   \n",
       "5     alvarezsaurus     0   Late Cretaceous 89-85 million years ago   \n",
       "\n",
       "          lived_in  length  \n",
       "type                        \n",
       "0              USA     7.0  \n",
       "1              USA     6.0  \n",
       "2            China     1.5  \n",
       "3        Argentina     9.0  \n",
       "4     South Africa     8.0  \n",
       "5        Argentina     2.0  "
      ]
     },
     "execution_count": 65,
     "metadata": {},
     "output_type": "execute_result"
    }
   ],
   "source": [
    "#sort by type\n",
    "df2 = df.groupby('type', dropna = True)\n",
    "#prints first of each group\n",
    "df2.first()"
   ]
  },
  {
   "cell_type": "code",
   "execution_count": 66,
   "id": "6d6d66e2-e570-4206-b338-6cf3cdf027e9",
   "metadata": {},
   "outputs": [
    {
     "data": {
      "text/plain": [
       "type\n",
       "0     5.324138\n",
       "1     4.170833\n",
       "2     5.616667\n",
       "3     7.548276\n",
       "4    14.652239\n",
       "5     1.946897\n",
       "Name: length, dtype: float64"
      ]
     },
     "execution_count": 66,
     "metadata": {},
     "output_type": "execute_result"
    }
   ],
   "source": [
    "#get average length by type\n",
    "df2['length'].mean()"
   ]
  },
  {
   "cell_type": "markdown",
   "id": "839aaafa-7dd4-45f8-b635-44090796fa1e",
   "metadata": {},
   "source": [
    "Now we have the average values of length by group type. We need to input these values for the \"nan\" length values for each type group in df. For example, df.loc[90, 'type'] = 3, so the value at row 90 column length would be 7.55 (rounded to two decimal places)"
   ]
  },
  {
   "cell_type": "code",
   "execution_count": 67,
   "id": "76f34fdd-91b7-401e-953b-e202bf36a30b",
   "metadata": {},
   "outputs": [
    {
     "data": {
      "text/plain": [
       "3"
      ]
     },
     "execution_count": 67,
     "metadata": {},
     "output_type": "execute_result"
    }
   ],
   "source": [
    "df.loc[90, 'type']"
   ]
  },
  {
   "cell_type": "code",
   "execution_count": 68,
   "id": "34f0ddf6-ea98-48ce-bc75-b1a90b7ed0c0",
   "metadata": {},
   "outputs": [],
   "source": [
    "df.loc[90, 'length'] = 7.55"
   ]
  },
  {
   "cell_type": "code",
   "execution_count": 69,
   "id": "ae3cfa49-2663-4f86-a710-37a441f3e0ab",
   "metadata": {},
   "outputs": [
    {
     "data": {
      "text/plain": [
       "7.55"
      ]
     },
     "execution_count": 69,
     "metadata": {},
     "output_type": "execute_result"
    }
   ],
   "source": [
    "df.loc[90, 'length']"
   ]
  },
  {
   "cell_type": "code",
   "execution_count": 70,
   "id": "024d6091-cf18-4c36-8c58-f8802999a52b",
   "metadata": {},
   "outputs": [],
   "source": [
    "#df['length'] = df.groupby('type', sort=False)['length'].apply(lambda x: x.fillna(x.mean()))\n",
    "#allegedly this will work but i couldnt get it to"
   ]
  },
  {
   "cell_type": "code",
   "execution_count": 71,
   "id": "c475a308-1f12-4df3-8109-69deee956b85",
   "metadata": {},
   "outputs": [
    {
     "data": {
      "text/plain": [
       "numpy.bool_"
      ]
     },
     "execution_count": 71,
     "metadata": {},
     "output_type": "execute_result"
    }
   ],
   "source": [
    "#testing if numpy nan can be bool\n",
    "type(np.isnan(df.loc[152, \"length\"]))"
   ]
  },
  {
   "cell_type": "raw",
   "id": "546f664a-4c85-4e6c-b2a9-536ad84b6889",
   "metadata": {},
   "source": [
    "#block to check\n",
    "\n",
    "print(np.isnan(df.loc[152, \"length\"]))\n",
    "print(df.loc[152, 'type'] == 4)\n",
    "print(df.loc[152, 'length'])"
   ]
  },
  {
   "cell_type": "code",
   "execution_count": 72,
   "id": "11d0dd2d-ceed-4f15-80ee-6e7bd9bfe581",
   "metadata": {},
   "outputs": [
    {
     "name": "stdout",
     "output_type": "stream",
     "text": [
      "rows to check: 96, 99, 120, 140, 144, 152, 191, 241, 252, 275, 287, 292, 302, 308\n",
      "Congrtaulations, length is NOT null!\n",
      "Congrtaulations, length is NOT null!\n",
      "Congrtaulations, length is NOT null!\n",
      "Congrtaulations, length is NOT null!\n",
      "Congrtaulations, length is NOT null!\n",
      "Congrtaulations, length is NOT null!\n",
      "Congrtaulations, length is NOT null!\n",
      "Congrtaulations, length is NOT null!\n",
      "Congrtaulations, length is NOT null!\n",
      "Congrtaulations, length is NOT null!\n",
      "Congrtaulations, length is NOT null!\n",
      "Congrtaulations, length is NOT null!\n",
      "Congrtaulations, length is NOT null!\n",
      "Congrtaulations, length is NOT null!\n",
      "Congrtaulations, length is NOT null!\n",
      "Congrtaulations, length is NOT null!\n",
      "Congrtaulations, length is NOT null!\n",
      "Congrtaulations, length is NOT null!\n",
      "Congrtaulations, length is NOT null!\n",
      "Congrtaulations, length is NOT null!\n",
      "Congrtaulations, length is NOT null!\n",
      "Congrtaulations, length is NOT null!\n",
      "Congrtaulations, length is NOT null!\n",
      "Congrtaulations, length is NOT null!\n",
      "Congrtaulations, length is NOT null!\n",
      "Congrtaulations, length is NOT null!\n",
      "Congrtaulations, length is NOT null!\n",
      "Congrtaulations, length is NOT null!\n",
      "Congrtaulations, length is NOT null!\n",
      "Congrtaulations, length is NOT null!\n",
      "Congrtaulations, length is NOT null!\n",
      "Congrtaulations, length is NOT null!\n",
      "Congrtaulations, length is NOT null!\n",
      "Congrtaulations, length is NOT null!\n",
      "Congrtaulations, length is NOT null!\n",
      "Congrtaulations, length is NOT null!\n",
      "Congrtaulations, length is NOT null!\n",
      "Congrtaulations, length is NOT null!\n",
      "Congrtaulations, length is NOT null!\n",
      "Congrtaulations, length is NOT null!\n",
      "Congrtaulations, length is NOT null!\n",
      "Congrtaulations, length is NOT null!\n",
      "Congrtaulations, length is NOT null!\n",
      "Congrtaulations, length is NOT null!\n",
      "Congrtaulations, length is NOT null!\n",
      "Congrtaulations, length is NOT null!\n",
      "Congrtaulations, length is NOT null!\n",
      "Congrtaulations, length is NOT null!\n",
      "Congrtaulations, length is NOT null!\n",
      "Congrtaulations, length is NOT null!\n",
      "Congrtaulations, length is NOT null!\n",
      "Congrtaulations, length is NOT null!\n",
      "Congrtaulations, length is NOT null!\n",
      "Congrtaulations, length is NOT null!\n",
      "Congrtaulations, length is NOT null!\n",
      "Congrtaulations, length is NOT null!\n",
      "Congrtaulations, length is NOT null!\n",
      "Congrtaulations, length is NOT null!\n",
      "Congrtaulations, length is NOT null!\n",
      "Congrtaulations, length is NOT null!\n",
      "Congrtaulations, length is NOT null!\n",
      "Congrtaulations, length is NOT null!\n",
      "Congrtaulations, length is NOT null!\n",
      "Congrtaulations, length is NOT null!\n",
      "Congrtaulations, length is NOT null!\n",
      "Congrtaulations, length is NOT null!\n",
      "Congrtaulations, length is NOT null!\n",
      "Congrtaulations, length is NOT null!\n",
      "Congrtaulations, length is NOT null!\n",
      "Congrtaulations, length is NOT null!\n",
      "Congrtaulations, length is NOT null!\n",
      "Congrtaulations, length is NOT null!\n",
      "Congrtaulations, length is NOT null!\n",
      "Congrtaulations, length is NOT null!\n",
      "Congrtaulations, length is NOT null!\n",
      "Congrtaulations, length is NOT null!\n",
      "Congrtaulations, length is NOT null!\n",
      "Congrtaulations, length is NOT null!\n",
      "Congrtaulations, length is NOT null!\n",
      "Congrtaulations, length is NOT null!\n",
      "Congrtaulations, length is NOT null!\n",
      "Congrtaulations, length is NOT null!\n",
      "Congrtaulations, length is NOT null!\n",
      "Congrtaulations, length is NOT null!\n",
      "Congrtaulations, length is NOT null!\n",
      "Congrtaulations, length is NOT null!\n",
      "Congrtaulations, length is NOT null!\n",
      "Congrtaulations, length is NOT null!\n",
      "Congrtaulations, length is NOT null!\n",
      "Congrtaulations, length is NOT null!\n",
      "Congrtaulations, length is NOT null!\n",
      "Congrtaulations, length is NOT null!\n",
      "Congrtaulations, length is NOT null!\n",
      "Congrtaulations, length is NOT null!\n",
      "Congrtaulations, length is NOT null!\n",
      "Congrtaulations, length is NOT null!\n",
      "My length is 5.62\n",
      "Congrtaulations, length is NOT null!\n",
      "Congrtaulations, length is NOT null!\n",
      "My length is 5.62\n",
      "Congrtaulations, length is NOT null!\n",
      "Congrtaulations, length is NOT null!\n",
      "Congrtaulations, length is NOT null!\n",
      "Congrtaulations, length is NOT null!\n",
      "Congrtaulations, length is NOT null!\n",
      "Congrtaulations, length is NOT null!\n",
      "Congrtaulations, length is NOT null!\n",
      "Congrtaulations, length is NOT null!\n",
      "Congrtaulations, length is NOT null!\n",
      "Congrtaulations, length is NOT null!\n",
      "Congrtaulations, length is NOT null!\n",
      "Congrtaulations, length is NOT null!\n",
      "Congrtaulations, length is NOT null!\n",
      "Congrtaulations, length is NOT null!\n",
      "Congrtaulations, length is NOT null!\n",
      "Congrtaulations, length is NOT null!\n",
      "Congrtaulations, length is NOT null!\n",
      "Congrtaulations, length is NOT null!\n",
      "Congrtaulations, length is NOT null!\n",
      "Congrtaulations, length is NOT null!\n",
      "My length is 4.17\n",
      "Congrtaulations, length is NOT null!\n",
      "Congrtaulations, length is NOT null!\n",
      "Congrtaulations, length is NOT null!\n",
      "Congrtaulations, length is NOT null!\n",
      "Congrtaulations, length is NOT null!\n",
      "Congrtaulations, length is NOT null!\n",
      "Congrtaulations, length is NOT null!\n",
      "Congrtaulations, length is NOT null!\n",
      "Congrtaulations, length is NOT null!\n",
      "Congrtaulations, length is NOT null!\n",
      "Congrtaulations, length is NOT null!\n",
      "Congrtaulations, length is NOT null!\n",
      "Congrtaulations, length is NOT null!\n",
      "Congrtaulations, length is NOT null!\n",
      "Congrtaulations, length is NOT null!\n",
      "Congrtaulations, length is NOT null!\n",
      "Congrtaulations, length is NOT null!\n",
      "Congrtaulations, length is NOT null!\n",
      "Congrtaulations, length is NOT null!\n",
      "My length is 14.65\n",
      "Congrtaulations, length is NOT null!\n",
      "Congrtaulations, length is NOT null!\n",
      "Congrtaulations, length is NOT null!\n",
      "My length is 5.62\n",
      "Congrtaulations, length is NOT null!\n",
      "Congrtaulations, length is NOT null!\n",
      "Congrtaulations, length is NOT null!\n",
      "Congrtaulations, length is NOT null!\n",
      "Congrtaulations, length is NOT null!\n",
      "Congrtaulations, length is NOT null!\n",
      "Congrtaulations, length is NOT null!\n",
      "My length is 14.65\n",
      "Congrtaulations, length is NOT null!\n",
      "Congrtaulations, length is NOT null!\n",
      "Congrtaulations, length is NOT null!\n",
      "My length is 4.17\n",
      "Congrtaulations, length is NOT null!\n",
      "Congrtaulations, length is NOT null!\n",
      "Congrtaulations, length is NOT null!\n",
      "Congrtaulations, length is NOT null!\n",
      "Congrtaulations, length is NOT null!\n",
      "Congrtaulations, length is NOT null!\n",
      "Congrtaulations, length is NOT null!\n",
      "Congrtaulations, length is NOT null!\n",
      "Congrtaulations, length is NOT null!\n",
      "Congrtaulations, length is NOT null!\n",
      "Congrtaulations, length is NOT null!\n",
      "Congrtaulations, length is NOT null!\n",
      "Congrtaulations, length is NOT null!\n",
      "Congrtaulations, length is NOT null!\n",
      "Congrtaulations, length is NOT null!\n",
      "Congrtaulations, length is NOT null!\n",
      "Congrtaulations, length is NOT null!\n",
      "Congrtaulations, length is NOT null!\n",
      "Congrtaulations, length is NOT null!\n",
      "Congrtaulations, length is NOT null!\n",
      "Congrtaulations, length is NOT null!\n",
      "Congrtaulations, length is NOT null!\n",
      "Congrtaulations, length is NOT null!\n",
      "Congrtaulations, length is NOT null!\n",
      "Congrtaulations, length is NOT null!\n",
      "Congrtaulations, length is NOT null!\n",
      "Congrtaulations, length is NOT null!\n",
      "Congrtaulations, length is NOT null!\n",
      "Congrtaulations, length is NOT null!\n",
      "Congrtaulations, length is NOT null!\n",
      "Congrtaulations, length is NOT null!\n",
      "Congrtaulations, length is NOT null!\n",
      "Congrtaulations, length is NOT null!\n",
      "My length is 5.62\n",
      "Congrtaulations, length is NOT null!\n",
      "Congrtaulations, length is NOT null!\n",
      "Congrtaulations, length is NOT null!\n",
      "Congrtaulations, length is NOT null!\n",
      "Congrtaulations, length is NOT null!\n",
      "Congrtaulations, length is NOT null!\n",
      "Congrtaulations, length is NOT null!\n",
      "Congrtaulations, length is NOT null!\n",
      "Congrtaulations, length is NOT null!\n",
      "Congrtaulations, length is NOT null!\n",
      "Congrtaulations, length is NOT null!\n",
      "Congrtaulations, length is NOT null!\n",
      "Congrtaulations, length is NOT null!\n",
      "Congrtaulations, length is NOT null!\n",
      "Congrtaulations, length is NOT null!\n",
      "Congrtaulations, length is NOT null!\n",
      "Congrtaulations, length is NOT null!\n",
      "Congrtaulations, length is NOT null!\n",
      "Congrtaulations, length is NOT null!\n",
      "Congrtaulations, length is NOT null!\n",
      "Congrtaulations, length is NOT null!\n",
      "Congrtaulations, length is NOT null!\n",
      "Congrtaulations, length is NOT null!\n",
      "Congrtaulations, length is NOT null!\n",
      "Congrtaulations, length is NOT null!\n",
      "Congrtaulations, length is NOT null!\n",
      "Congrtaulations, length is NOT null!\n",
      "Congrtaulations, length is NOT null!\n",
      "Congrtaulations, length is NOT null!\n",
      "Congrtaulations, length is NOT null!\n",
      "Congrtaulations, length is NOT null!\n",
      "Congrtaulations, length is NOT null!\n",
      "Congrtaulations, length is NOT null!\n",
      "Congrtaulations, length is NOT null!\n",
      "Congrtaulations, length is NOT null!\n",
      "Congrtaulations, length is NOT null!\n",
      "Congrtaulations, length is NOT null!\n",
      "Congrtaulations, length is NOT null!\n",
      "Congrtaulations, length is NOT null!\n",
      "Congrtaulations, length is NOT null!\n",
      "Congrtaulations, length is NOT null!\n",
      "Congrtaulations, length is NOT null!\n",
      "Congrtaulations, length is NOT null!\n",
      "Congrtaulations, length is NOT null!\n",
      "Congrtaulations, length is NOT null!\n",
      "Congrtaulations, length is NOT null!\n",
      "Congrtaulations, length is NOT null!\n",
      "Congrtaulations, length is NOT null!\n",
      "My length is 1.95\n",
      "Congrtaulations, length is NOT null!\n",
      "Congrtaulations, length is NOT null!\n",
      "Congrtaulations, length is NOT null!\n",
      "Congrtaulations, length is NOT null!\n",
      "Congrtaulations, length is NOT null!\n",
      "Congrtaulations, length is NOT null!\n",
      "Congrtaulations, length is NOT null!\n",
      "Congrtaulations, length is NOT null!\n",
      "Congrtaulations, length is NOT null!\n",
      "Congrtaulations, length is NOT null!\n",
      "My length is 5.32\n",
      "Congrtaulations, length is NOT null!\n",
      "Congrtaulations, length is NOT null!\n",
      "Congrtaulations, length is NOT null!\n",
      "Congrtaulations, length is NOT null!\n",
      "Congrtaulations, length is NOT null!\n",
      "Congrtaulations, length is NOT null!\n",
      "Congrtaulations, length is NOT null!\n",
      "Congrtaulations, length is NOT null!\n",
      "Congrtaulations, length is NOT null!\n",
      "Congrtaulations, length is NOT null!\n",
      "Congrtaulations, length is NOT null!\n",
      "Congrtaulations, length is NOT null!\n",
      "Congrtaulations, length is NOT null!\n",
      "Congrtaulations, length is NOT null!\n",
      "Congrtaulations, length is NOT null!\n",
      "Congrtaulations, length is NOT null!\n",
      "Congrtaulations, length is NOT null!\n",
      "Congrtaulations, length is NOT null!\n",
      "Congrtaulations, length is NOT null!\n",
      "Congrtaulations, length is NOT null!\n",
      "Congrtaulations, length is NOT null!\n",
      "Congrtaulations, length is NOT null!\n",
      "My length is 5.62\n",
      "Congrtaulations, length is NOT null!\n",
      "Congrtaulations, length is NOT null!\n",
      "Congrtaulations, length is NOT null!\n",
      "Congrtaulations, length is NOT null!\n",
      "Congrtaulations, length is NOT null!\n",
      "Congrtaulations, length is NOT null!\n",
      "Congrtaulations, length is NOT null!\n",
      "Congrtaulations, length is NOT null!\n",
      "Congrtaulations, length is NOT null!\n",
      "Congrtaulations, length is NOT null!\n",
      "My length is 5.32\n",
      "Congrtaulations, length is NOT null!\n",
      "Congrtaulations, length is NOT null!\n",
      "Congrtaulations, length is NOT null!\n",
      "Congrtaulations, length is NOT null!\n",
      "My length is 4.17\n",
      "Congrtaulations, length is NOT null!\n",
      "Congrtaulations, length is NOT null!\n",
      "Congrtaulations, length is NOT null!\n",
      "Congrtaulations, length is NOT null!\n",
      "Congrtaulations, length is NOT null!\n",
      "Congrtaulations, length is NOT null!\n",
      "Congrtaulations, length is NOT null!\n",
      "Congrtaulations, length is NOT null!\n",
      "Congrtaulations, length is NOT null!\n",
      "My length is 5.32\n",
      "Congrtaulations, length is NOT null!\n",
      "Congrtaulations, length is NOT null!\n",
      "Congrtaulations, length is NOT null!\n",
      "Congrtaulations, length is NOT null!\n",
      "Congrtaulations, length is NOT null!\n",
      "My length is 4.17\n"
     ]
    }
   ],
   "source": [
    "#inputting mean length values\n",
    "print(\"rows to check: 96, 99, 120, 140, 144, 152, 191, 241, 252, 275, 287, 292, 302, 308\")\n",
    "\n",
    "for index in df.index:\n",
    "    if np.isnan(df.loc[index, \"length\"]):\n",
    "        if df.loc[index, 'type'] == 0:\n",
    "            df.loc[index, 'length'] = 5.32\n",
    "            print(\"My length is 5.32\")\n",
    "        elif df.loc[index, 'type'] == 1:\n",
    "            df.loc[index, 'length'] = 4.17\n",
    "            print(\"My length is 4.17\")\n",
    "        elif df.loc[index, 'type'] == 2:\n",
    "            df.loc[index, 'length'] = 5.62\n",
    "            print(\"My length is 5.62\")\n",
    "        elif df.loc[index, 'type'] == 3:\n",
    "            df.loc[index, 'length'] = 7.55\n",
    "            print(\"My length is 7.55\")\n",
    "        elif df.loc[index, 'type'] == 4:\n",
    "            df.loc[index, 'length'] = 14.65\n",
    "            print(\"My length is 14.65\")\n",
    "        elif df.loc[index, 'type'] == 5:\n",
    "            df.loc[index, 'length'] = 1.95\n",
    "            print(\"My length is 1.95\")\n",
    "        else:\n",
    "            print(\"Could not find that combination in the data. Try checking aforementioned rows\")\n",
    "    else:\n",
    "        print(\"Congrtaulations, length is NOT null!\")"
   ]
  },
  {
   "cell_type": "code",
   "execution_count": 73,
   "id": "df62ab4f-7e11-42f4-a0ce-573d7cdeeb5b",
   "metadata": {},
   "outputs": [
    {
     "data": {
      "text/plain": [
       "4.17"
      ]
     },
     "execution_count": 73,
     "metadata": {},
     "output_type": "execute_result"
    }
   ],
   "source": [
    "#90, 96, 99, 120, 140, 144, 152, 156, 191, 241, 252, 275, 287, 292, 302, 308\n",
    "df.loc[308,'length']"
   ]
  },
  {
   "cell_type": "markdown",
   "id": "f900dfbf-a049-415b-bd26-ee9e3c244f16",
   "metadata": {},
   "source": [
    "Now that all misisng values are dropped or filled, we can do analysis on the set as a whole."
   ]
  },
  {
   "cell_type": "code",
   "execution_count": 74,
   "id": "62d0a33d-f944-4c07-b5cc-dff056ac609b",
   "metadata": {},
   "outputs": [
    {
     "name": "stdout",
     "output_type": "stream",
     "text": [
      "<class 'pandas.core.frame.DataFrame'>\n",
      "Index: 306 entries, 0 to 308\n",
      "Data columns (total 6 columns):\n",
      " #   Column    Non-Null Count  Dtype  \n",
      "---  ------    --------------  -----  \n",
      " 0   name      306 non-null    object \n",
      " 1   diet      306 non-null    int64  \n",
      " 2   period    306 non-null    object \n",
      " 3   lived_in  305 non-null    object \n",
      " 4   type      306 non-null    int32  \n",
      " 5   length    306 non-null    float64\n",
      "dtypes: float64(1), int32(1), int64(1), object(3)\n",
      "memory usage: 23.6+ KB\n"
     ]
    }
   ],
   "source": [
    "#small dataset\n",
    "df.info()"
   ]
  },
  {
   "cell_type": "code",
   "execution_count": 75,
   "id": "ed7eefa1-3633-46d5-aad6-8c168d5056ff",
   "metadata": {},
   "outputs": [
    {
     "data": {
      "text/plain": [
       "<Axes: title={'center': 'length'}, xlabel='meters', ylabel='Frequency'>"
      ]
     },
     "execution_count": 75,
     "metadata": {},
     "output_type": "execute_result"
    },
    {
     "data": {
      "image/png": "[encoded data removed]",
      "text/plain": [
       "<Figure size 640x480 with 1 Axes>"
      ]
     },
     "metadata": {},
     "output_type": "display_data"
    }
   ],
   "source": [
    "df['length'].plot(kind='hist', title='length', xlabel='meters')"
   ]
  },
  {
   "cell_type": "code",
   "execution_count": 76,
   "id": "654fa5d4-6eca-4456-920c-1b1c22308e70",
   "metadata": {},
   "outputs": [
    {
     "data": {
      "text/plain": [
       "<Axes: >"
      ]
     },
     "execution_count": 76,
     "metadata": {},
     "output_type": "execute_result"
    },
    {
     "data": {
      "image/png": "[encoded data removed]",
      "text/plain": [
       "<Figure size 640x480 with 2 Axes>"
      ]
     },
     "metadata": {},
     "output_type": "display_data"
    }
   ],
   "source": [
    "c = df.corr(numeric_only = True)\n",
    "sns.heatmap(c, cmap = \"GnBu\", annot = True)"
   ]
  },
  {
   "cell_type": "markdown",
   "id": "b9fa636a-61b0-4f68-b1e5-53551668dadd",
   "metadata": {},
   "source": [
    "Correlation Matrix\n",
    "\n",
    "A diagnosis useful in regression. It shows whether independent variables are highly correlated with another. Some models make assumptions that they are NOT. If two indepent variables score high, results in multicollinearity. This can possibly cause problems since each variable does not provide unique information.\n",
    "\n",
    "Can check for multicollinearity by visually checking with a matrix (like above) or using Variance Inflation Factor (VIF.) First, analyze multicollinearity by first checking severity, then checking features effected to see if it needs to be addressed. Lastly, if used purely for predictive models, multicollinearity will not affect predicive results. If needed to be addressed, you can remove one of the highly correlated values, linearly combine predictor variables, perform analysis like principal component analysis (PCA) or partial least squares (PLS) regression."
   ]
  },
  {
   "cell_type": "code",
   "execution_count": 77,
   "id": "6708791d-bef0-4772-81af-bf1bf1a49ac1",
   "metadata": {},
   "outputs": [
    {
     "data": {
      "text/plain": [
       "<seaborn.axisgrid.PairGrid at 0x1a8591bf790>"
      ]
     },
     "execution_count": 77,
     "metadata": {},
     "output_type": "execute_result"
    },
    {
     "data": {
      "image/png": "[encoded data removed]",
      "text/plain": [
       "<Figure size 750x750 with 12 Axes>"
      ]
     },
     "metadata": {},
     "output_type": "display_data"
    }
   ],
   "source": [
    "sns.pairplot(df)"
   ]
  },
  {
   "cell_type": "markdown",
   "id": "14a21664-7855-49b7-9ba2-74ed6af2a689",
   "metadata": {},
   "source": [
    "Pairplots\n",
    "\n",
    "go hand in hand with correlation matricies. Visualizes the best set of features to explain a relationship between two variables or to form the most separated clusters. Can also help form some models by showing simple serparation of data points. "
   ]
  }
 ],
 "metadata": {
  "kernelspec": {
   "display_name": "Python 3 (ipykernel)",
   "language": "python",
   "name": "python3"
  },
  "language_info": {
   "codemirror_mode": {
    "name": "ipython",
    "version": 3
   },
   "file_extension": ".py",
   "mimetype": "text/x-python",
   "name": "python",
   "nbconvert_exporter": "python",
   "pygments_lexer": "ipython3",
   "version": "3.10.14"
  }
 },
 "nbformat": 4,
 "nbformat_minor": 5
}
